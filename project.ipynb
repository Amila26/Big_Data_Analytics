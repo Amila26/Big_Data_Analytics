{
 "cells": [
  {
   "cell_type": "code",
   "execution_count": 1,
   "id": "2dd9bb43-1912-4416-9afb-6a9d68324d42",
   "metadata": {},
   "outputs": [
    {
     "name": "stdout",
     "output_type": "stream",
     "text": [
      "D:\\DE_PROJECT\n"
     ]
    }
   ],
   "source": [
    "import os\n",
    "print(os.getcwd())"
   ]
  },
  {
   "cell_type": "code",
   "execution_count": 2,
   "id": "59802305-2b50-4111-ab3a-6a48da446625",
   "metadata": {},
   "outputs": [],
   "source": [
    "# project using bigdata file in python"
   ]
  },
  {
   "cell_type": "code",
   "execution_count": 3,
   "id": "bc1503d2-8a91-40be-afa0-55c562a67aed",
   "metadata": {
    "editable": true,
    "slideshow": {
     "slide_type": ""
    },
    "tags": []
   },
   "outputs": [],
   "source": [
    "from powerbiclient import QuickVisualize, get_dataset_config, Report\n",
    "from powerbiclient.authentication import DeviceCodeLoginAuthentication"
   ]
  },
  {
   "cell_type": "code",
   "execution_count": 4,
   "id": "67b24546-e5d3-40af-8873-a071713a5c00",
   "metadata": {},
   "outputs": [],
   "source": [
    "# Above modules help to create PBI visual Embed Object In Notebook"
   ]
  },
  {
   "cell_type": "code",
   "execution_count": 5,
   "id": "968e0423-2998-4887-8757-7332a1f437c8",
   "metadata": {},
   "outputs": [],
   "source": [
    "from pathlib import Path\n",
    "import pandas  as pd\n",
    "import glob\n",
    "import os"
   ]
  },
  {
   "cell_type": "code",
   "execution_count": 6,
   "id": "d155e1cd-f9ea-479c-bc78-a58213dc6bf0",
   "metadata": {},
   "outputs": [],
   "source": [
    "# Use pbi Client for PBI embed Visuals to note book"
   ]
  },
  {
   "cell_type": "code",
   "execution_count": 7,
   "id": "d7c22e28-e85b-4d57-a44c-c7a20d75864b",
   "metadata": {
    "scrolled": true
   },
   "outputs": [
    {
     "name": "stdout",
     "output_type": "stream",
     "text": [
      "D:\\data\\web_logs.csv\n"
     ]
    }
   ],
   "source": [
    "file_path = Path(\"D:\\data\")\n",
    "file_list = glob.glob(str(file_path) +r\"\\*csv\")\n",
    "file_name = file_path/file_list[0] # we can just write path object\n",
    "print(file_name)"
   ]
  },
  {
   "cell_type": "code",
   "execution_count": 8,
   "id": "0c44749e-4bac-4dc5-9e2e-2921aa2f2dbc",
   "metadata": {},
   "outputs": [
    {
     "name": "stdout",
     "output_type": "stream",
     "text": [
      "_id,ip,host,country,city,webpage,os,browser,other,date\n",
      "\n",
      "_id,ip,host,country,city,webpage,os,browser,other,date\n",
      "\n",
      "65449f0b2b60807313d8f167,202.186.194.157,202.186.194.157,Malaysia,Shah Alam,https://asnitours.com/home?,Windows 8,Chrome,\"Mozilla/5.0 (Windows NT 6.2; Win64; x64) AppleWebKit/537.36 (KHTML, like Gecko) Chrome/81.0.4044.138 Safari/537.36\",2020-05-19 16:06:27\n",
      "\n",
      "6544a8e3d0ca21ba1f56c860,94.197.152.128,94.197.152.128.threembb.co.uk,,,https://www.travelyamu.com/home?,Mac OS X,Chrome,\"Mozilla/5.0 (Macintosh; Intel Mac OS X 10_15_7) AppleWebKit/537.36 (KHTML, like Gecko) Chrome/119.0.0.0 Safari/537.36\",2023-11-03 16:01:39\n",
      "\n",
      "6544a91b9ddfb6b2f2b4fff5,114.119.142.179,petalbot-114-119-142-179.petalsearch.com,,,https://www.travelyamu.com/products-search?chained_relative=Sri%20Lanka&prod_type=Multi-day%20~%20Extended%20Tours&flexdatalist-chained_relative=%20Singapore&url_cur=gbp,Android,Handheld Browser,\"Mozilla/5.0 (Linux; Android 7.0;) AppleWebKit/537.36 (KHTML, like Gecko) Mobile Safari/537.36 (compatible; PetalBot;+https://webmaster.petalsearch.com/site/petalbot)\",2023-11-03 16:02:34\n",
      "\n",
      "6544a9579ddfb6b2f2b50029,114.119.142.232,petalbot-114-119-142-232.petalsearch.com,,,https://www.travelyamu.com/products-search?chained_relative&prod_type=Walking%20~%20Biking%20Tours&flexdatalist-chained_relative=%20Sri%20Lanka,Android,Handheld Browser,\"Mozilla/5.0 (Linux; Android 7.0;) AppleWebKit/537.36 (KHTML, like Gecko) Mobile Safari/537.36 (compatible; PetalBot;+https://webmaster.petalsearch.com/site/petalbot)\",2023-11-03 16:03:35\n",
      "\n",
      "6544a986d0ca21ba1f56c932,114.119.142.135,petalbot-114-119-142-135.petalsearch.com,,,\"https://www.travelyamu.com/products-search?chained_relative=Indonesia&prod_type=Transfers%20~%20Ground%20Transport&flexdatalist-chained_relative=penang,%20Malaysia&url_cur=myr\",Android,Handheld Browser,\"Mozilla/5.0 (Linux; Android 7.0;) AppleWebKit/537.36 (KHTML, like Gecko) Mobile Safari/537.36 (compatible; PetalBot;+https://webmaster.petalsearch.com/site/petalbot)\",2023-11-03 16:04:22\n",
      "\n",
      "6544a9e49ddfb6b2f2b50140,114.119.149.171,petalbot-114-119-149-171.petalsearch.com,,,https://www.travelyamu.com/products-search?chained_relative=Indonesia&prod_type=Multi-day%20~%20Extended%20Tours&flexdatalist-chained_relative=%20Singapore&url_cur=eur,Android,Handheld Browser,\"Mozilla/5.0 (Linux; Android 7.0;) AppleWebKit/537.36 (KHTML, like Gecko) Mobile Safari/537.36 (compatible; PetalBot;+https://webmaster.petalsearch.com/site/petalbot)\",2023-11-03 16:05:56\n",
      "\n"
     ]
    }
   ],
   "source": [
    "with file_name.open(\"r\") as data_file:\n",
    "    header = data_file.readline()\n",
    "    print(header)\n",
    "    #print(data_file.tell())\n",
    "    i = 0\n",
    "    data_file.seek(0)\n",
    "    for line in data_file:\n",
    "        i = i +1\n",
    "        if i < 8:\n",
    "            print(line)\n",
    "        else:\n",
    "            break"
   ]
  },
  {
   "cell_type": "code",
   "execution_count": 9,
   "id": "9b7ad554-17e7-4e6d-aa6c-90c766c78b27",
   "metadata": {},
   "outputs": [
    {
     "name": "stdout",
     "output_type": "stream",
     "text": [
      "file size is 4.4 GB\n"
     ]
    }
   ],
   "source": [
    "# so Identify total Size of Csv file\n",
    "size = int(os.path.getsize(\"D:\\data\\web_logs.csv\")) \n",
    "print(f\"file size is {round(size / 10**9 ,3)}\"+\" GB\")"
   ]
  },
  {
   "cell_type": "markdown",
   "id": "e4daa62d-974c-4552-9e3c-fe74eaa5698f",
   "metadata": {},
   "source": [
    "display one chunk"
   ]
  },
  {
   "cell_type": "code",
   "execution_count": 11,
   "id": "f516fc1e-c4f4-4ccf-872a-71eb51548ec4",
   "metadata": {
    "scrolled": true
   },
   "outputs": [
    {
     "data": {
      "text/html": [
       "<div>\n",
       "<style scoped>\n",
       "    .dataframe tbody tr th:only-of-type {\n",
       "        vertical-align: middle;\n",
       "    }\n",
       "\n",
       "    .dataframe tbody tr th {\n",
       "        vertical-align: top;\n",
       "    }\n",
       "\n",
       "    .dataframe thead th {\n",
       "        text-align: right;\n",
       "    }\n",
       "</style>\n",
       "<table border=\"1\" class=\"dataframe\">\n",
       "  <thead>\n",
       "    <tr style=\"text-align: right;\">\n",
       "      <th></th>\n",
       "      <th>_id</th>\n",
       "      <th>ip</th>\n",
       "      <th>host</th>\n",
       "      <th>country</th>\n",
       "      <th>city</th>\n",
       "      <th>webpage</th>\n",
       "      <th>os</th>\n",
       "      <th>browser</th>\n",
       "      <th>other</th>\n",
       "      <th>date</th>\n",
       "    </tr>\n",
       "  </thead>\n",
       "  <tbody>\n",
       "    <tr>\n",
       "      <th>0</th>\n",
       "      <td>65449f0b2b60807313d8f167</td>\n",
       "      <td>202.186.194.157</td>\n",
       "      <td>202.186.194.157</td>\n",
       "      <td>Malaysia</td>\n",
       "      <td>Shah Alam</td>\n",
       "      <td>https://asnitours.com/home?</td>\n",
       "      <td>Windows 8</td>\n",
       "      <td>Chrome</td>\n",
       "      <td>Mozilla/5.0 (Windows NT 6.2; Win64; x64) Apple...</td>\n",
       "      <td>2020-05-19 16:06:27</td>\n",
       "    </tr>\n",
       "    <tr>\n",
       "      <th>1</th>\n",
       "      <td>6544a8e3d0ca21ba1f56c860</td>\n",
       "      <td>94.197.152.128</td>\n",
       "      <td>94.197.152.128.threembb.co.uk</td>\n",
       "      <td>NaN</td>\n",
       "      <td>NaN</td>\n",
       "      <td>https://www.travelyamu.com/home?</td>\n",
       "      <td>Mac OS X</td>\n",
       "      <td>Chrome</td>\n",
       "      <td>Mozilla/5.0 (Macintosh; Intel Mac OS X 10_15_7...</td>\n",
       "      <td>2023-11-03 16:01:39</td>\n",
       "    </tr>\n",
       "    <tr>\n",
       "      <th>2</th>\n",
       "      <td>6544a91b9ddfb6b2f2b4fff5</td>\n",
       "      <td>114.119.142.179</td>\n",
       "      <td>petalbot-114-119-142-179.petalsearch.com</td>\n",
       "      <td>NaN</td>\n",
       "      <td>NaN</td>\n",
       "      <td>https://www.travelyamu.com/products-search?cha...</td>\n",
       "      <td>Android</td>\n",
       "      <td>Handheld Browser</td>\n",
       "      <td>Mozilla/5.0 (Linux; Android 7.0;) AppleWebKit/...</td>\n",
       "      <td>2023-11-03 16:02:34</td>\n",
       "    </tr>\n",
       "    <tr>\n",
       "      <th>3</th>\n",
       "      <td>6544a9579ddfb6b2f2b50029</td>\n",
       "      <td>114.119.142.232</td>\n",
       "      <td>petalbot-114-119-142-232.petalsearch.com</td>\n",
       "      <td>NaN</td>\n",
       "      <td>NaN</td>\n",
       "      <td>https://www.travelyamu.com/products-search?cha...</td>\n",
       "      <td>Android</td>\n",
       "      <td>Handheld Browser</td>\n",
       "      <td>Mozilla/5.0 (Linux; Android 7.0;) AppleWebKit/...</td>\n",
       "      <td>2023-11-03 16:03:35</td>\n",
       "    </tr>\n",
       "    <tr>\n",
       "      <th>4</th>\n",
       "      <td>6544a986d0ca21ba1f56c932</td>\n",
       "      <td>114.119.142.135</td>\n",
       "      <td>petalbot-114-119-142-135.petalsearch.com</td>\n",
       "      <td>NaN</td>\n",
       "      <td>NaN</td>\n",
       "      <td>https://www.travelyamu.com/products-search?cha...</td>\n",
       "      <td>Android</td>\n",
       "      <td>Handheld Browser</td>\n",
       "      <td>Mozilla/5.0 (Linux; Android 7.0;) AppleWebKit/...</td>\n",
       "      <td>2023-11-03 16:04:22</td>\n",
       "    </tr>\n",
       "    <tr>\n",
       "      <th>...</th>\n",
       "      <td>...</td>\n",
       "      <td>...</td>\n",
       "      <td>...</td>\n",
       "      <td>...</td>\n",
       "      <td>...</td>\n",
       "      <td>...</td>\n",
       "      <td>...</td>\n",
       "      <td>...</td>\n",
       "      <td>...</td>\n",
       "      <td>...</td>\n",
       "    </tr>\n",
       "    <tr>\n",
       "      <th>95</th>\n",
       "      <td>6544b1ec9ddfb6b2f2b50b6c</td>\n",
       "      <td>217.182.175.187</td>\n",
       "      <td>ns3095478.ip-217-182-175.eu</td>\n",
       "      <td>NaN</td>\n",
       "      <td>NaN</td>\n",
       "      <td>https://www.travelyamu.com/products-search?cha...</td>\n",
       "      <td>-</td>\n",
       "      <td>Unknown Browser</td>\n",
       "      <td>Mozilla/5.0 (compatible; MJ12bot/v1.4.8; http:...</td>\n",
       "      <td>2023-11-03 16:40:12</td>\n",
       "    </tr>\n",
       "    <tr>\n",
       "      <th>96</th>\n",
       "      <td>6544b1ef9ddfb6b2f2b50b6e</td>\n",
       "      <td>114.119.139.26</td>\n",
       "      <td>petalbot-114-119-139-26.petalsearch.com</td>\n",
       "      <td>NaN</td>\n",
       "      <td>NaN</td>\n",
       "      <td>https://www.travelyamu.com/products-search?cha...</td>\n",
       "      <td>Android</td>\n",
       "      <td>Handheld Browser</td>\n",
       "      <td>Mozilla/5.0 (Linux; Android 7.0;) AppleWebKit/...</td>\n",
       "      <td>2023-11-03 16:40:15</td>\n",
       "    </tr>\n",
       "    <tr>\n",
       "      <th>97</th>\n",
       "      <td>6544b1f1d0ca21ba1f56d3d9</td>\n",
       "      <td>217.182.175.187</td>\n",
       "      <td>ns3095478.ip-217-182-175.eu</td>\n",
       "      <td>NaN</td>\n",
       "      <td>NaN</td>\n",
       "      <td>https://www.travelyamu.com/products-search?cha...</td>\n",
       "      <td>-</td>\n",
       "      <td>Unknown Browser</td>\n",
       "      <td>Mozilla/5.0 (compatible; MJ12bot/v1.4.8; http:...</td>\n",
       "      <td>2023-11-03 16:40:16</td>\n",
       "    </tr>\n",
       "    <tr>\n",
       "      <th>98</th>\n",
       "      <td>6544b1f49ddfb6b2f2b50b6f</td>\n",
       "      <td>217.182.175.187</td>\n",
       "      <td>ns3095478.ip-217-182-175.eu</td>\n",
       "      <td>NaN</td>\n",
       "      <td>NaN</td>\n",
       "      <td>https://www.travelyamu.com/products-search?cha...</td>\n",
       "      <td>-</td>\n",
       "      <td>Unknown Browser</td>\n",
       "      <td>Mozilla/5.0 (compatible; MJ12bot/v1.4.8; http:...</td>\n",
       "      <td>2023-11-03 16:40:20</td>\n",
       "    </tr>\n",
       "    <tr>\n",
       "      <th>99</th>\n",
       "      <td>6544b1f9d0ca21ba1f56d3da</td>\n",
       "      <td>217.182.175.187</td>\n",
       "      <td>ns3095478.ip-217-182-175.eu</td>\n",
       "      <td>NaN</td>\n",
       "      <td>NaN</td>\n",
       "      <td>https://www.travelyamu.com/products-search?cha...</td>\n",
       "      <td>-</td>\n",
       "      <td>Unknown Browser</td>\n",
       "      <td>Mozilla/5.0 (compatible; MJ12bot/v1.4.8; http:...</td>\n",
       "      <td>2023-11-03 16:40:25</td>\n",
       "    </tr>\n",
       "  </tbody>\n",
       "</table>\n",
       "<p>100 rows × 10 columns</p>\n",
       "</div>"
      ],
      "text/plain": [
       "                         _id               ip  \\\n",
       "0   65449f0b2b60807313d8f167  202.186.194.157   \n",
       "1   6544a8e3d0ca21ba1f56c860   94.197.152.128   \n",
       "2   6544a91b9ddfb6b2f2b4fff5  114.119.142.179   \n",
       "3   6544a9579ddfb6b2f2b50029  114.119.142.232   \n",
       "4   6544a986d0ca21ba1f56c932  114.119.142.135   \n",
       "..                       ...              ...   \n",
       "95  6544b1ec9ddfb6b2f2b50b6c  217.182.175.187   \n",
       "96  6544b1ef9ddfb6b2f2b50b6e   114.119.139.26   \n",
       "97  6544b1f1d0ca21ba1f56d3d9  217.182.175.187   \n",
       "98  6544b1f49ddfb6b2f2b50b6f  217.182.175.187   \n",
       "99  6544b1f9d0ca21ba1f56d3da  217.182.175.187   \n",
       "\n",
       "                                        host   country       city  \\\n",
       "0                            202.186.194.157  Malaysia  Shah Alam   \n",
       "1              94.197.152.128.threembb.co.uk       NaN        NaN   \n",
       "2   petalbot-114-119-142-179.petalsearch.com       NaN        NaN   \n",
       "3   petalbot-114-119-142-232.petalsearch.com       NaN        NaN   \n",
       "4   petalbot-114-119-142-135.petalsearch.com       NaN        NaN   \n",
       "..                                       ...       ...        ...   \n",
       "95               ns3095478.ip-217-182-175.eu       NaN        NaN   \n",
       "96   petalbot-114-119-139-26.petalsearch.com       NaN        NaN   \n",
       "97               ns3095478.ip-217-182-175.eu       NaN        NaN   \n",
       "98               ns3095478.ip-217-182-175.eu       NaN        NaN   \n",
       "99               ns3095478.ip-217-182-175.eu       NaN        NaN   \n",
       "\n",
       "                                              webpage         os  \\\n",
       "0                         https://asnitours.com/home?  Windows 8   \n",
       "1                    https://www.travelyamu.com/home?   Mac OS X   \n",
       "2   https://www.travelyamu.com/products-search?cha...    Android   \n",
       "3   https://www.travelyamu.com/products-search?cha...    Android   \n",
       "4   https://www.travelyamu.com/products-search?cha...    Android   \n",
       "..                                                ...        ...   \n",
       "95  https://www.travelyamu.com/products-search?cha...          -   \n",
       "96  https://www.travelyamu.com/products-search?cha...    Android   \n",
       "97  https://www.travelyamu.com/products-search?cha...          -   \n",
       "98  https://www.travelyamu.com/products-search?cha...          -   \n",
       "99  https://www.travelyamu.com/products-search?cha...          -   \n",
       "\n",
       "             browser                                              other  \\\n",
       "0             Chrome  Mozilla/5.0 (Windows NT 6.2; Win64; x64) Apple...   \n",
       "1             Chrome  Mozilla/5.0 (Macintosh; Intel Mac OS X 10_15_7...   \n",
       "2   Handheld Browser  Mozilla/5.0 (Linux; Android 7.0;) AppleWebKit/...   \n",
       "3   Handheld Browser  Mozilla/5.0 (Linux; Android 7.0;) AppleWebKit/...   \n",
       "4   Handheld Browser  Mozilla/5.0 (Linux; Android 7.0;) AppleWebKit/...   \n",
       "..               ...                                                ...   \n",
       "95   Unknown Browser  Mozilla/5.0 (compatible; MJ12bot/v1.4.8; http:...   \n",
       "96  Handheld Browser  Mozilla/5.0 (Linux; Android 7.0;) AppleWebKit/...   \n",
       "97   Unknown Browser  Mozilla/5.0 (compatible; MJ12bot/v1.4.8; http:...   \n",
       "98   Unknown Browser  Mozilla/5.0 (compatible; MJ12bot/v1.4.8; http:...   \n",
       "99   Unknown Browser  Mozilla/5.0 (compatible; MJ12bot/v1.4.8; http:...   \n",
       "\n",
       "                   date  \n",
       "0   2020-05-19 16:06:27  \n",
       "1   2023-11-03 16:01:39  \n",
       "2   2023-11-03 16:02:34  \n",
       "3   2023-11-03 16:03:35  \n",
       "4   2023-11-03 16:04:22  \n",
       "..                  ...  \n",
       "95  2023-11-03 16:40:12  \n",
       "96  2023-11-03 16:40:15  \n",
       "97  2023-11-03 16:40:16  \n",
       "98  2023-11-03 16:40:20  \n",
       "99  2023-11-03 16:40:25  \n",
       "\n",
       "[100 rows x 10 columns]"
      ]
     },
     "metadata": {},
     "output_type": "display_data"
    }
   ],
   "source": [
    "chunks = pd.read_csv(file_name , chunksize= 100000)\n",
    "for chunk in chunks:\n",
    "    chunk.to_excel(file_path/\"sample.xlsx\",index=False)\n",
    "    display(chunk.head(100))\n",
    "    break"
   ]
  },
  {
   "cell_type": "code",
   "execution_count": 12,
   "id": "81779faa-f83f-43b4-b2b3-8405b05227d3",
   "metadata": {},
   "outputs": [],
   "source": [
    "# Group BY IP and all Other feild take record_count by id\n",
    "# check How much Data amount Is reduced\n",
    "# and Test for furthure analysis"
   ]
  },
  {
   "cell_type": "code",
   "execution_count": 13,
   "id": "057ffaaa-33da-44b6-8cf0-159af0a5e06d",
   "metadata": {},
   "outputs": [
    {
     "name": "stdout",
     "output_type": "stream",
     "text": [
      "                            _id               ip  \\\n",
      "0      65449f0b2b60807313d8f167  202.186.194.157   \n",
      "1      6544a8e3d0ca21ba1f56c860   94.197.152.128   \n",
      "2      6544a91b9ddfb6b2f2b4fff5  114.119.142.179   \n",
      "3      6544a9579ddfb6b2f2b50029  114.119.142.232   \n",
      "4      6544a986d0ca21ba1f56c932  114.119.142.135   \n",
      "...                         ...              ...   \n",
      "99995  6544cfc12b60807313da7d22    66.249.75.109   \n",
      "99996  6544cfc12b60807313da7d23    66.249.75.109   \n",
      "99997  6544cfc12b60807313da7d24    66.249.75.109   \n",
      "99998  6544cfc12b60807313da7d25    66.249.75.111   \n",
      "99999  6544cfc12b60807313da7d26    66.249.75.111   \n",
      "\n",
      "                                           host        country           city  \\\n",
      "0                               202.186.194.157       Malaysia      Shah Alam   \n",
      "1                 94.197.152.128.threembb.co.uk            NaN            NaN   \n",
      "2      petalbot-114-119-142-179.petalsearch.com            NaN            NaN   \n",
      "3      petalbot-114-119-142-232.petalsearch.com            NaN            NaN   \n",
      "4      petalbot-114-119-142-135.petalsearch.com            NaN            NaN   \n",
      "...                                         ...            ...            ...   \n",
      "99995         crawl-66-249-75-109.googlebot.com  United States  Mountain View   \n",
      "99996         crawl-66-249-75-109.googlebot.com  United States  Mountain View   \n",
      "99997         crawl-66-249-75-109.googlebot.com  United States  Mountain View   \n",
      "99998         crawl-66-249-75-111.googlebot.com  United States  Mountain View   \n",
      "99999         crawl-66-249-75-111.googlebot.com  United States  Mountain View   \n",
      "\n",
      "                                                 webpage         os  \\\n",
      "0                            https://asnitours.com/home?  Windows 8   \n",
      "1                       https://www.travelyamu.com/home?   Mac OS X   \n",
      "2      https://www.travelyamu.com/products-search?cha...    Android   \n",
      "3      https://www.travelyamu.com/products-search?cha...    Android   \n",
      "4      https://www.travelyamu.com/products-search?cha...    Android   \n",
      "...                                                  ...        ...   \n",
      "99995  https://www.travelyamu.com/confirm?c=UGQ0OUlVd...    Android   \n",
      "99996  https://www.travelyamu.com/confirm?c=V0dDZ2YzL...    Android   \n",
      "99997  https://www.travelyamu.com/confirm?c=TmxkQ2pRN...    Android   \n",
      "99998  https://www.travelyamu.com/confirm?c=ZldNT3FaY...    Android   \n",
      "99999  https://www.travelyamu.com/confirm?c=dlo2cnpyc...    Android   \n",
      "\n",
      "                browser                                              other  \\\n",
      "0                Chrome  Mozilla/5.0 (Windows NT 6.2; Win64; x64) Apple...   \n",
      "1                Chrome  Mozilla/5.0 (Macintosh; Intel Mac OS X 10_15_7...   \n",
      "2      Handheld Browser  Mozilla/5.0 (Linux; Android 7.0;) AppleWebKit/...   \n",
      "3      Handheld Browser  Mozilla/5.0 (Linux; Android 7.0;) AppleWebKit/...   \n",
      "4      Handheld Browser  Mozilla/5.0 (Linux; Android 7.0;) AppleWebKit/...   \n",
      "...                 ...                                                ...   \n",
      "99995  Handheld Browser  Mozilla/5.0 (Linux; Android 6.0.1; Nexus 5X Bu...   \n",
      "99996  Handheld Browser  Mozilla/5.0 (Linux; Android 6.0.1; Nexus 5X Bu...   \n",
      "99997  Handheld Browser  Mozilla/5.0 (Linux; Android 6.0.1; Nexus 5X Bu...   \n",
      "99998  Handheld Browser  Mozilla/5.0 (Linux; Android 6.0.1; Nexus 5X Bu...   \n",
      "99999  Handheld Browser  Mozilla/5.0 (Linux; Android 6.0.1; Nexus 5X Bu...   \n",
      "\n",
      "                      date  Year  \n",
      "0      2020-05-19 16:06:27  2020  \n",
      "1      2023-11-03 16:01:39  2023  \n",
      "2      2023-11-03 16:02:34  2023  \n",
      "3      2023-11-03 16:03:35  2023  \n",
      "4      2023-11-03 16:04:22  2023  \n",
      "...                    ...   ...  \n",
      "99995  2020-09-06 01:40:48  2020  \n",
      "99996  2020-09-06 01:40:53  2020  \n",
      "99997  2020-09-06 01:40:54  2020  \n",
      "99998  2020-09-06 01:41:04  2020  \n",
      "99999  2020-09-06 01:41:08  2020  \n",
      "\n",
      "[100000 rows x 11 columns]\n",
      "['_id', 'ip', 'host', 'country', 'city', 'webpage', 'os', 'browser', 'other', 'date']\n"
     ]
    }
   ],
   "source": [
    "chunks = pd.read_csv(file_name , chunksize= 100000,low_memory=False)\n",
    "for chunk in chunks:\n",
    "    headers = list((chunk.columns))\n",
    "    chunk[\"Year\"] = chunk[\"date\"].str[:4]  # This is expecting series here we cannot use loc because assing new column\n",
    "    print (chunk)\n",
    "    break\n",
    "\n",
    "print(headers)"
   ]
  },
  {
   "cell_type": "code",
   "execution_count": 14,
   "id": "6a7d4a1d-6ce5-4128-adf5-513d0f230772",
   "metadata": {},
   "outputs": [],
   "source": [
    "# But since this is date and time here we use datetime in pandas\n"
   ]
  },
  {
   "cell_type": "code",
   "execution_count": 15,
   "id": "ae3317e6-6e1c-4d1b-b31f-96f9696e6b2f",
   "metadata": {},
   "outputs": [],
   "source": [
    "# chunks = pd.read_csv(file_name , chunksize= 100000 ,low_memory=False)\n",
    "# master_df = pd.DataFrame(columns = headers)\n",
    "# print(master_df)\n",
    "# for temp_df in chunks:\n",
    "#     new_df = temp_df.groupby(headers[1:],dropna  = False ).count()[['_id']].reset_index()\n",
    "#     master_df=pd.concat([master_df,new_df],axis=0,ignore_index=True) "
   ]
  },
  {
   "cell_type": "markdown",
   "id": "cb00aa9d-c301-41f1-ac15-9048a649057d",
   "metadata": {},
   "source": [
    "# feild Meaning\n",
    "_id: This is a unique identifier for each record, likely used to ensure each entry in the database is distinct.\n",
    "\n",
    "ip: This is the IP address of the user or bot that accessed the webpage. IP addresses are numerical labels assigned to devices connected to a network.\n",
    "\n",
    "host: This field usually contains the hostname associated with the IP address. A hostname is a human-readable label that corresponds to an IP address, often used to identify devices on a network.\n",
    "\n",
    "country: This indicates the country from which the IP address is registered or the access is made.\n",
    "\n",
    "city: This shows the city associated with the IP address or where the access originated.\n",
    "\n",
    "webpage: This is the URL of the webpage that was accessed.\n",
    "\n",
    "os: This represents the operating system used by the device accessing the webpage (e.g., Windows 8, Mac OS X, Android).\n",
    "\n",
    "browser: This indicates the web browser used to access the webpage (e.g., Chrome, Handheld Browser).\n",
    "\n",
    "other: This field typically contains additional information about the user agent string, which provides details about the browser and operating system version, and sometimes the device type.\n",
    "\n",
    "date: This is the timestamp of when the access occurred, formatted as YYYY-MM-DD HH:MM:SS."
   ]
  },
  {
   "cell_type": "code",
   "execution_count": 17,
   "id": "17814530-58d8-4f5d-9700-02e3d26c8cbd",
   "metadata": {},
   "outputs": [],
   "source": [
    "# I am going to seperated log file in to each Year"
   ]
  },
  {
   "cell_type": "code",
   "execution_count": 18,
   "id": "32f39cdc-3857-4fdd-ac3b-1df04a54dbc5",
   "metadata": {},
   "outputs": [
    {
     "name": "stdout",
     "output_type": "stream",
     "text": [
      "[2020, 2021, 2022, 2023, 2024]\n",
      "['_id', 'ip', 'host', 'country', 'city', 'webpage', 'os', 'browser', 'other', 'date']\n"
     ]
    }
   ],
   "source": [
    "year_list = []\n",
    "chunks = pd.read_csv(file_name , chunksize= 100000,low_memory=False)\n",
    "for chunk in chunks:\n",
    "    headers = list((chunk.columns))\n",
    "    chunk[\"date\"] = pd.to_datetime(chunk[\"date\"]) # This is expecting series here we cannot use loc because assing new column\n",
    "    chunk[\"Year\"] = chunk[\"date\"].dt.year\n",
    "    A = list(chunk[\"Year\"].unique())\n",
    "    year_list = year_list+A\n",
    "year_list = list(set(year_list))\n",
    "print(year_list)\n",
    "print(headers)"
   ]
  },
  {
   "cell_type": "code",
   "execution_count": 19,
   "id": "1045ec49-f21f-484b-96bf-3073f5e9aa57",
   "metadata": {},
   "outputs": [],
   "source": [
    "# concatinate seperate dataframe to each year and sort by time stamp\n",
    "# store in four data Frames\n",
    "\n",
    "df_list = []\n",
    "for y in year_list:\n",
    "    df = pd.DataFrame(columns=headers)\n",
    "    chunks = pd.read_csv(file_name , chunksize= 100000,low_memory=False)\n",
    "    for chunk in chunks:\n",
    "        headers = list((chunk.columns))\n",
    "        chunk[\"date\"] = pd.to_datetime(chunk[\"date\"])\n",
    "        chunk[\"Year\"] = chunk[\"date\"].dt.year\n",
    "        tempdf = chunk.loc[chunk[\"Year\"] == y]\n",
    "        tempdf=tempdf.sort_values(['ip',\"date\"] , ascending=True)\n",
    "        df = pd.concat([df,tempdf],ignore_index=True)\n",
    "    df_list.append(df)"
   ]
  },
  {
   "cell_type": "code",
   "execution_count": 20,
   "id": "142c8e2a-88e7-4b5b-ab3f-96e341203e52",
   "metadata": {},
   "outputs": [],
   "source": [
    "process_list =[]\n",
    "for df in df_list:\n",
    "    \n",
    "    new_df = df.iloc[:,1:] # Remove id column \n",
    "    new_df[\"exact_date\"] = new_df['date'].dt.date # add date only column\n",
    "    new_df[\"month\"] = new_df['date'].dt.month # add Month Column\n",
    "    new_df[\"round_time\"] = pd.to_datetime(new_df['date'], errors='coerce').dt.floor('15T') # round all time stamp to near 15 min\n",
    "    sub_df = new_df.drop(columns=['date']) # drop original Time stamp\n",
    "    sub_df = sub_df.drop_duplicates()\n",
    "    process_list.append(sub_df)\n",
    "    \n"
   ]
  },
  {
   "cell_type": "code",
   "execution_count": 21,
   "id": "01b82e29-490c-4ae4-bb77-e9f331412844",
   "metadata": {},
   "outputs": [],
   "source": [
    "# so It is required to define visit and asing data in to new DF with unique visit \n",
    "# assing Time Threshold as 15 min so all visit minitues are keep round up to approximate 15 min"
   ]
  },
  {
   "cell_type": "code",
   "execution_count": 22,
   "id": "e4ffb8ee-8cb8-4105-a904-8d079581ef54",
   "metadata": {},
   "outputs": [
    {
     "name": "stdout",
     "output_type": "stream",
     "text": [
      "0 th (204690, 11) vs (182844, 12)\n",
      "1 th (442632, 11) vs (404153, 12)\n",
      "2 th (5744497, 11) vs (5693601, 12)\n",
      "3 th (3262348, 11) vs (3021596, 12)\n",
      "4 th (1401608, 11) vs (1279032, 12)\n"
     ]
    }
   ],
   "source": [
    "for i in range(len(df_list)):\n",
    "    print(f'{i} th {df_list[i].shape} vs {process_list[i].shape}')\n",
    "    "
   ]
  },
  {
   "cell_type": "code",
   "execution_count": 23,
   "id": "d76a82e7-07f4-469f-9491-2fb039964f50",
   "metadata": {},
   "outputs": [
    {
     "data": {
      "text/plain": [
       "Index(['ip', 'host', 'country', 'city', 'webpage', 'os', 'browser', 'other',\n",
       "       'Year', 'exact_date', 'month', 'round_time'],\n",
       "      dtype='object')"
      ]
     },
     "execution_count": 23,
     "metadata": {},
     "output_type": "execute_result"
    }
   ],
   "source": [
    "# So Now we Have process Data Frame wich Can Be used to define vist\n",
    "process_list[0].columns"
   ]
  },
  {
   "cell_type": "code",
   "execution_count": 24,
   "id": "c0616a63-9174-4254-bce1-6ee45baecfab",
   "metadata": {},
   "outputs": [],
   "source": [
    "# So Unique 'ip', 'host', 'country', 'city', 'webpage', 'os', 'browser', 'other','Year', 'exact_date', 'round_time' \n",
    "# can Consider as a unique visit"
   ]
  },
  {
   "cell_type": "code",
   "execution_count": 25,
   "id": "2ede4fb1-08a7-4316-b4ca-6a19b1521bae",
   "metadata": {},
   "outputs": [],
   "source": [
    "save_df = process_list[0]\n",
    "save_df.to_excel(file_path/\"save_df1.xlsx\",index=False)"
   ]
  },
  {
   "cell_type": "code",
   "execution_count": 26,
   "id": "8e69aa71-d4e4-44fc-9757-c602b55bcaeb",
   "metadata": {},
   "outputs": [],
   "source": [
    "# Year # Month # Country # City # No of Visit We can See trend of visit accorss the countries\n",
    "# ['ip', 'host', 'country', 'city', 'webpage', 'os', 'browser', 'other','Year', 'exact_date', 'month', 'round_time']\n",
    "annual_geo_visit_list = []\n",
    "for tdf in process_list:\n",
    "    newdf = tdf.groupby(['Year','month','country','city'],dropna = False).count().reset_index().iloc[:,:5]\n",
    "    newdf = newdf.rename(columns = {\"ip\":\"visit\"})\n",
    "    #display(newdf)\n",
    "    #display(newdf.loc[(newdf[\"country\"] ==\"Australia\") & (newdf[\"city\"] ==\"Canberra\") & (newdf[\"month\"] == 7)])\n",
    "    annual_geo_visit_list.append(newdf)\n",
    "    "
   ]
  },
  {
   "cell_type": "code",
   "execution_count": 27,
   "id": "497a7f37-a4eb-48d7-821e-2ffa9390aa15",
   "metadata": {},
   "outputs": [],
   "source": [
    "# Some Aggrigated Function\n",
    "# IPCount = tdf[[\"ip\"]].count(axis=0)\n",
    "#    IPUniqueCount = tdf[[\"ip\"]].nunique(axis=0)\n",
    "#    print(IPCount ,IPUniqueCount )"
   ]
  },
  {
   "cell_type": "code",
   "execution_count": 28,
   "id": "71833702-e6df-44e0-80d5-d1edf91ff680",
   "metadata": {},
   "outputs": [
    {
     "data": {
      "text/html": [
       "<div>\n",
       "<style scoped>\n",
       "    .dataframe tbody tr th:only-of-type {\n",
       "        vertical-align: middle;\n",
       "    }\n",
       "\n",
       "    .dataframe tbody tr th {\n",
       "        vertical-align: top;\n",
       "    }\n",
       "\n",
       "    .dataframe thead th {\n",
       "        text-align: right;\n",
       "    }\n",
       "</style>\n",
       "<table border=\"1\" class=\"dataframe\">\n",
       "  <thead>\n",
       "    <tr style=\"text-align: right;\">\n",
       "      <th></th>\n",
       "      <th>Year</th>\n",
       "      <th>month</th>\n",
       "      <th>country</th>\n",
       "      <th>city</th>\n",
       "      <th>visit</th>\n",
       "    </tr>\n",
       "  </thead>\n",
       "  <tbody>\n",
       "    <tr>\n",
       "      <th>0</th>\n",
       "      <td>2020.0</td>\n",
       "      <td>5</td>\n",
       "      <td>Australia</td>\n",
       "      <td>Canberra</td>\n",
       "      <td>1</td>\n",
       "    </tr>\n",
       "    <tr>\n",
       "      <th>1</th>\n",
       "      <td>2020.0</td>\n",
       "      <td>5</td>\n",
       "      <td>Australia</td>\n",
       "      <td>Sydney</td>\n",
       "      <td>2</td>\n",
       "    </tr>\n",
       "    <tr>\n",
       "      <th>2</th>\n",
       "      <td>2020.0</td>\n",
       "      <td>5</td>\n",
       "      <td>Austria</td>\n",
       "      <td>Klagenfurt am WÃ¶rthersee</td>\n",
       "      <td>1</td>\n",
       "    </tr>\n",
       "    <tr>\n",
       "      <th>3</th>\n",
       "      <td>2020.0</td>\n",
       "      <td>5</td>\n",
       "      <td>Brunei</td>\n",
       "      <td>Bandar Seri Begawan</td>\n",
       "      <td>1</td>\n",
       "    </tr>\n",
       "    <tr>\n",
       "      <th>4</th>\n",
       "      <td>2020.0</td>\n",
       "      <td>5</td>\n",
       "      <td>Cambodia</td>\n",
       "      <td>Phnom Penh</td>\n",
       "      <td>1</td>\n",
       "    </tr>\n",
       "    <tr>\n",
       "      <th>...</th>\n",
       "      <td>...</td>\n",
       "      <td>...</td>\n",
       "      <td>...</td>\n",
       "      <td>...</td>\n",
       "      <td>...</td>\n",
       "    </tr>\n",
       "    <tr>\n",
       "      <th>95</th>\n",
       "      <td>2024.0</td>\n",
       "      <td>5</td>\n",
       "      <td>United States</td>\n",
       "      <td>Menlo Park</td>\n",
       "      <td>68</td>\n",
       "    </tr>\n",
       "    <tr>\n",
       "      <th>96</th>\n",
       "      <td>2024.0</td>\n",
       "      <td>5</td>\n",
       "      <td>United States</td>\n",
       "      <td>Pinole</td>\n",
       "      <td>8</td>\n",
       "    </tr>\n",
       "    <tr>\n",
       "      <th>97</th>\n",
       "      <td>2024.0</td>\n",
       "      <td>5</td>\n",
       "      <td>United States</td>\n",
       "      <td>San Francisco</td>\n",
       "      <td>2</td>\n",
       "    </tr>\n",
       "    <tr>\n",
       "      <th>98</th>\n",
       "      <td>2024.0</td>\n",
       "      <td>5</td>\n",
       "      <td>United States</td>\n",
       "      <td>Vallejo</td>\n",
       "      <td>8</td>\n",
       "    </tr>\n",
       "    <tr>\n",
       "      <th>99</th>\n",
       "      <td>2024.0</td>\n",
       "      <td>5</td>\n",
       "      <td>NaN</td>\n",
       "      <td>NaN</td>\n",
       "      <td>486643</td>\n",
       "    </tr>\n",
       "  </tbody>\n",
       "</table>\n",
       "<p>5071 rows × 5 columns</p>\n",
       "</div>"
      ],
      "text/plain": [
       "      Year  month        country                       city   visit\n",
       "0   2020.0      5      Australia                   Canberra       1\n",
       "1   2020.0      5      Australia                     Sydney       2\n",
       "2   2020.0      5        Austria  Klagenfurt am WÃ¶rthersee       1\n",
       "3   2020.0      5         Brunei        Bandar Seri Begawan       1\n",
       "4   2020.0      5       Cambodia                 Phnom Penh       1\n",
       "..     ...    ...            ...                        ...     ...\n",
       "95  2024.0      5  United States                 Menlo Park      68\n",
       "96  2024.0      5  United States                     Pinole       8\n",
       "97  2024.0      5  United States              San Francisco       2\n",
       "98  2024.0      5  United States                    Vallejo       8\n",
       "99  2024.0      5            NaN                        NaN  486643\n",
       "\n",
       "[5071 rows x 5 columns]"
      ]
     },
     "metadata": {},
     "output_type": "display_data"
    }
   ],
   "source": [
    "# concat all the df\n",
    "location_visit_df = pd.concat(annual_geo_visit_list)\n",
    "display(location_visit_df)"
   ]
  },
  {
   "cell_type": "code",
   "execution_count": 29,
   "id": "60c29acd-ea11-4987-a12e-5156a094d7a3",
   "metadata": {},
   "outputs": [
    {
     "data": {
      "text/html": [
       "<div>\n",
       "<style scoped>\n",
       "    .dataframe tbody tr th:only-of-type {\n",
       "        vertical-align: middle;\n",
       "    }\n",
       "\n",
       "    .dataframe tbody tr th {\n",
       "        vertical-align: top;\n",
       "    }\n",
       "\n",
       "    .dataframe thead th {\n",
       "        text-align: right;\n",
       "    }\n",
       "</style>\n",
       "<table border=\"1\" class=\"dataframe\">\n",
       "  <thead>\n",
       "    <tr style=\"text-align: right;\">\n",
       "      <th></th>\n",
       "      <th>Year</th>\n",
       "      <th>month</th>\n",
       "      <th>country</th>\n",
       "      <th>city</th>\n",
       "      <th>visit</th>\n",
       "    </tr>\n",
       "  </thead>\n",
       "  <tbody>\n",
       "    <tr>\n",
       "      <th>0</th>\n",
       "      <td>2020.0</td>\n",
       "      <td>5</td>\n",
       "      <td>Australia</td>\n",
       "      <td>Canberra</td>\n",
       "      <td>1</td>\n",
       "    </tr>\n",
       "    <tr>\n",
       "      <th>1</th>\n",
       "      <td>2020.0</td>\n",
       "      <td>5</td>\n",
       "      <td>Australia</td>\n",
       "      <td>Sydney</td>\n",
       "      <td>2</td>\n",
       "    </tr>\n",
       "    <tr>\n",
       "      <th>2</th>\n",
       "      <td>2020.0</td>\n",
       "      <td>5</td>\n",
       "      <td>Austria</td>\n",
       "      <td>Klagenfurt am WÃ¶rthersee</td>\n",
       "      <td>1</td>\n",
       "    </tr>\n",
       "    <tr>\n",
       "      <th>3</th>\n",
       "      <td>2020.0</td>\n",
       "      <td>5</td>\n",
       "      <td>Brunei</td>\n",
       "      <td>Bandar Seri Begawan</td>\n",
       "      <td>1</td>\n",
       "    </tr>\n",
       "    <tr>\n",
       "      <th>4</th>\n",
       "      <td>2020.0</td>\n",
       "      <td>5</td>\n",
       "      <td>Cambodia</td>\n",
       "      <td>Phnom Penh</td>\n",
       "      <td>1</td>\n",
       "    </tr>\n",
       "    <tr>\n",
       "      <th>...</th>\n",
       "      <td>...</td>\n",
       "      <td>...</td>\n",
       "      <td>...</td>\n",
       "      <td>...</td>\n",
       "      <td>...</td>\n",
       "    </tr>\n",
       "    <tr>\n",
       "      <th>94</th>\n",
       "      <td>2024.0</td>\n",
       "      <td>5</td>\n",
       "      <td>United States</td>\n",
       "      <td>Berkeley</td>\n",
       "      <td>12</td>\n",
       "    </tr>\n",
       "    <tr>\n",
       "      <th>95</th>\n",
       "      <td>2024.0</td>\n",
       "      <td>5</td>\n",
       "      <td>United States</td>\n",
       "      <td>Menlo Park</td>\n",
       "      <td>68</td>\n",
       "    </tr>\n",
       "    <tr>\n",
       "      <th>96</th>\n",
       "      <td>2024.0</td>\n",
       "      <td>5</td>\n",
       "      <td>United States</td>\n",
       "      <td>Pinole</td>\n",
       "      <td>8</td>\n",
       "    </tr>\n",
       "    <tr>\n",
       "      <th>97</th>\n",
       "      <td>2024.0</td>\n",
       "      <td>5</td>\n",
       "      <td>United States</td>\n",
       "      <td>San Francisco</td>\n",
       "      <td>2</td>\n",
       "    </tr>\n",
       "    <tr>\n",
       "      <th>98</th>\n",
       "      <td>2024.0</td>\n",
       "      <td>5</td>\n",
       "      <td>United States</td>\n",
       "      <td>Vallejo</td>\n",
       "      <td>8</td>\n",
       "    </tr>\n",
       "  </tbody>\n",
       "</table>\n",
       "<p>4955 rows × 5 columns</p>\n",
       "</div>"
      ],
      "text/plain": [
       "      Year  month        country                       city  visit\n",
       "0   2020.0      5      Australia                   Canberra      1\n",
       "1   2020.0      5      Australia                     Sydney      2\n",
       "2   2020.0      5        Austria  Klagenfurt am WÃ¶rthersee      1\n",
       "3   2020.0      5         Brunei        Bandar Seri Begawan      1\n",
       "4   2020.0      5       Cambodia                 Phnom Penh      1\n",
       "..     ...    ...            ...                        ...    ...\n",
       "94  2024.0      5  United States                   Berkeley     12\n",
       "95  2024.0      5  United States                 Menlo Park     68\n",
       "96  2024.0      5  United States                     Pinole      8\n",
       "97  2024.0      5  United States              San Francisco      2\n",
       "98  2024.0      5  United States                    Vallejo      8\n",
       "\n",
       "[4955 rows x 5 columns]"
      ]
     },
     "execution_count": 29,
     "metadata": {},
     "output_type": "execute_result"
    }
   ],
   "source": [
    "location_visit_df.loc[(location_visit_df[\"country\"].isna() == False) & (location_visit_df[\"city\"].isna()== False)]"
   ]
  },
  {
   "cell_type": "code",
   "execution_count": 30,
   "id": "b76b25dc-fa63-43a9-b21d-78ea5213b9c4",
   "metadata": {},
   "outputs": [],
   "source": [
    "from powerbiclient import QuickVisualize, get_dataset_config, Report\n",
    "from powerbiclient.authentication import DeviceCodeLoginAuthentication\n"
   ]
  },
  {
   "cell_type": "code",
   "execution_count": 31,
   "id": "30edf193-94e7-4a85-8489-21e1960844b0",
   "metadata": {},
   "outputs": [
    {
     "name": "stdout",
     "output_type": "stream",
     "text": [
      "Performing device flow authentication. Please follow the instructions below.\n",
      "To sign in, use a web browser to open the page https://microsoft.com/devicelogin and enter the code GHCZA3L9N to authenticate.\n"
     ]
    },
    {
     "ename": "RuntimeError",
     "evalue": "Authentication failed. Try again.\nDetails: AADSTS70020: The provided value for the input parameter 'device_code' is not valid. This device code has expired. Trace ID: cd8512e9-b0af-4d18-80c8-59d672ce5e00 Correlation ID: 709b3c11-6a1d-495d-83fb-a5ecf44510b2 Timestamp: 2024-08-10 14:16:16Z",
     "output_type": "error",
     "traceback": [
      "\u001b[1;31m---------------------------------------------------------------------------\u001b[0m",
      "\u001b[1;31mRuntimeError\u001b[0m                              Traceback (most recent call last)",
      "Cell \u001b[1;32mIn[31], line 1\u001b[0m\n\u001b[1;32m----> 1\u001b[0m device_auth \u001b[38;5;241m=\u001b[39m \u001b[43mDeviceCodeLoginAuthentication\u001b[49m\u001b[43m(\u001b[49m\u001b[43m)\u001b[49m\n",
      "File \u001b[1;32mD:\\DE_PROJECT\\Lib\\site-packages\\powerbiclient\\authentication.py:78\u001b[0m, in \u001b[0;36mDeviceCodeLoginAuthentication.__init__\u001b[1;34m(self, tenant_id)\u001b[0m\n\u001b[0;32m     76\u001b[0m \u001b[38;5;28msuper\u001b[39m()\u001b[38;5;241m.\u001b[39m\u001b[38;5;21m__init__\u001b[39m()\n\u001b[0;32m     77\u001b[0m CheckGlobalAuth()\n\u001b[1;32m---> 78\u001b[0m \u001b[38;5;28;43mself\u001b[39;49m\u001b[38;5;241;43m.\u001b[39;49m\u001b[43m_acquire_token_device_code\u001b[49m\u001b[43m(\u001b[49m\u001b[43mtenant_id\u001b[49m\u001b[43m)\u001b[49m\n",
      "File \u001b[1;32mD:\\DE_PROJECT\\Lib\\site-packages\\powerbiclient\\authentication.py:110\u001b[0m, in \u001b[0;36mDeviceCodeLoginAuthentication._acquire_token_device_code\u001b[1;34m(self, tenant_id)\u001b[0m\n\u001b[0;32m    108\u001b[0m \u001b[38;5;28;01melse\u001b[39;00m:\n\u001b[0;32m    109\u001b[0m     error_message \u001b[38;5;241m=\u001b[39m \u001b[38;5;124mf\u001b[39m\u001b[38;5;124m\"\u001b[39m\u001b[38;5;124mAuthentication failed. Try again.\u001b[39m\u001b[38;5;130;01m\\n\u001b[39;00m\u001b[38;5;124mDetails: \u001b[39m\u001b[38;5;132;01m{\u001b[39;00mresult\u001b[38;5;241m.\u001b[39mget(\u001b[38;5;124m'\u001b[39m\u001b[38;5;124merror_description\u001b[39m\u001b[38;5;124m'\u001b[39m)\u001b[38;5;132;01m}\u001b[39;00m\u001b[38;5;124m\"\u001b[39m\n\u001b[1;32m--> 110\u001b[0m     \u001b[38;5;28;01mraise\u001b[39;00m \u001b[38;5;167;01mRuntimeError\u001b[39;00m(error_message)\n",
      "\u001b[1;31mRuntimeError\u001b[0m: Authentication failed. Try again.\nDetails: AADSTS70020: The provided value for the input parameter 'device_code' is not valid. This device code has expired. Trace ID: cd8512e9-b0af-4d18-80c8-59d672ce5e00 Correlation ID: 709b3c11-6a1d-495d-83fb-a5ecf44510b2 Timestamp: 2024-08-10 14:16:16Z"
     ]
    }
   ],
   "source": [
    "#device_auth = DeviceCodeLoginAuthentication()"
   ]
  },
  {
   "cell_type": "code",
   "execution_count": null,
   "id": "e9bb0863-19e2-45fc-8095-cbbab74adad1",
   "metadata": {},
   "outputs": [],
   "source": [
    "# Create PBI visual from Data\n",
    "#PBI_visualize = QuickVisualize(get_dataset_config(location_visit_df),auth=device_auth)"
   ]
  },
  {
   "cell_type": "code",
   "execution_count": null,
   "id": "dc5938ca-2ba4-466a-8a99-ce5a16b46f02",
   "metadata": {},
   "outputs": [],
   "source": [
    "#PBI_visualize"
   ]
  },
  {
   "cell_type": "code",
   "execution_count": null,
   "id": "39227a17-88d5-4d54-a5a2-449e50243761",
   "metadata": {},
   "outputs": [],
   "source": [
    "#location_visit_df.to_excel(r\"D:\\data\\vist_df.xlsx\")"
   ]
  },
  {
   "cell_type": "code",
   "execution_count": null,
   "id": "77e1ce34-a727-47ac-9bcd-9eeb266fabdb",
   "metadata": {},
   "outputs": [],
   "source": []
  }
 ],
 "metadata": {
  "kernelspec": {
   "display_name": "Python (DE_PROJECT)",
   "language": "python",
   "name": "de_project"
  },
  "language_info": {
   "codemirror_mode": {
    "name": "ipython",
    "version": 3
   },
   "file_extension": ".py",
   "mimetype": "text/x-python",
   "name": "python",
   "nbconvert_exporter": "python",
   "pygments_lexer": "ipython3",
   "version": "3.11.1"
  }
 },
 "nbformat": 4,
 "nbformat_minor": 5
}
